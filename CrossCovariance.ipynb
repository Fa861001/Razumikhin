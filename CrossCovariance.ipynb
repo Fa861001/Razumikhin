{
  "nbformat": 4,
  "nbformat_minor": 0,
  "metadata": {
    "colab": {
      "name": "CrossCovariance.ipynb",
      "provenance": [],
      "collapsed_sections": [],
      "authorship_tag": "ABX9TyOhSGT+slOzNaJp6az3pWZ3",
      "include_colab_link": true
    },
    "kernelspec": {
      "name": "python3",
      "display_name": "Python 3"
    },
    "language_info": {
      "name": "python"
    }
  },
  "cells": [
    {
      "cell_type": "markdown",
      "metadata": {
        "id": "view-in-github",
        "colab_type": "text"
      },
      "source": [
        "<a href=\"https://colab.research.google.com/github/Fa861001/Razumikhin/blob/master/CrossCovariance.ipynb\" target=\"_parent\"><img src=\"https://colab.research.google.com/assets/colab-badge.svg\" alt=\"Open In Colab\"/></a>"
      ]
    },
    {
      "cell_type": "code",
      "execution_count": 51,
      "metadata": {
        "colab": {
          "base_uri": "https://localhost:8080/"
        },
        "id": "MFL9XHhNhZ5t",
        "outputId": "1db76944-5713-4d09-f63b-a2dbab6e69e6"
      },
      "outputs": [
        {
          "output_type": "stream",
          "name": "stdout",
          "text": [
            "enter the size of the sample 6\n",
            "enter the size of the assets 14\n",
            "[[11.3021978   2.7032967   1.78021978 -2.64835165  7.52197802 -1.44505495]\n",
            " [ 2.7032967  18.43956044  0.13186813 -4.01098901 -2.27472527 -3.64835165]\n",
            " [ 1.78021978  0.13186813 12.43956044  4.75824176 -0.50549451  3.58241758]\n",
            " [-2.64835165 -4.01098901  4.75824176 11.34065934 -7.02197802  1.79120879]\n",
            " [ 7.52197802 -2.27472527 -0.50549451 -7.02197802 21.56593407  1.28021978]\n",
            " [-1.44505495 -3.64835165  3.58241758  1.79120879  1.28021978  9.25824176]]\n",
            "[[14.02747253  7.88461538 -7.92307692  1.26923077 -0.56593407  0.42307692]\n",
            " [ 7.88461538 16.26923077  3.07692308  1.88461538 -1.42307692 -0.11538462]\n",
            " [-7.92307692  3.07692308 23.53846154 -5.69230769 -3.38461538 -2.92307692]\n",
            " [ 1.26923077  1.88461538 -5.69230769 18.88461538 -8.73076923  3.96153846]\n",
            " [-0.56593407 -1.42307692 -3.38461538 -8.73076923 16.02747253 -7.88461538]\n",
            " [ 0.42307692 -0.11538462 -2.92307692  3.96153846 -7.88461538 18.57692308]]\n",
            "[[ 4.63118121e+01  1.61314591e+01 -1.47726395e+01  1.87191439e-02\n",
            "  -2.08717168e+00 -1.69215171e-01]\n",
            " [ 1.61774536e+01  5.21993258e+01  7.43923142e+00  3.88738507e+00\n",
            "  -1.03702219e+00 -3.31676177e-05]\n",
            " [-1.47904309e+01  7.37544550e+00  6.28009788e+01 -9.97564041e+00\n",
            "  -7.76372318e+00 -5.06884502e+00]\n",
            " [ 9.72969761e-03  3.83240109e+00 -9.96683847e+00  5.62349444e+01\n",
            "  -1.54649361e+01  4.29233336e+00]\n",
            " [-2.13625068e+00 -1.13209572e+00 -7.79501079e+00 -1.55050256e+01\n",
            "   5.00616525e+01 -1.35223704e+01]\n",
            " [-1.73184875e-01 -4.99974011e-02 -5.05502334e+00  4.29735311e+00\n",
            "  -1.34772611e+01  5.70227657e+01]]\n"
          ]
        }
      ],
      "source": [
        "import pandas as pd\n",
        "import numpy as np\n",
        "#receiving the inputs\n",
        "t=int(input('enter the size of the sample '))\n",
        "n=int(input('enter the size of the assets '))\n",
        "#random generating the signals and returns matrices\n",
        "sigs = np.random.randint(n,size=(t,n))\n",
        "rets = np.random.randint(n,size=(t,n))\n",
        "#first step estimation\n",
        "sig1=np.identity(n)\n",
        "sig2=np.identity(n)\n",
        "sig3=np.cov(sigs,rets)\n",
        "fi=(sig3.trace())/n\n",
        "ro=(sig3.sum()-sig3.trace())/(n*(n-1))\n",
        "sig3=fi*(np.identity(t))+ro*(np.ones([t,t])-np.identity(t))\n",
        "#generalized estimation\n",
        "sig1=np.cov(sigs)\n",
        "sig2=np.cov(rets)\n",
        "from scipy.linalg import fractional_matrix_power\n",
        "a = fractional_matrix_power(sig1, 0.5)\n",
        "b= fractional_matrix_power(sig2, 0.5)\n",
        "sig3=np.dot(b,sig3,a)\n",
        "print(sig1)\n",
        "print(sig2)\n",
        "print(sig3)\n",
        "\n",
        "\n",
        "\n",
        "\n",
        "\n",
        "\n",
        "\n"
      ]
    },
    {
      "cell_type": "code",
      "source": [
        ""
      ],
      "metadata": {
        "id": "2AlJFXmooLqE"
      },
      "execution_count": null,
      "outputs": []
    }
  ]
}